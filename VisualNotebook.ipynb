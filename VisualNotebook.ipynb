{
 "cells": [
  {
   "cell_type": "code",
   "execution_count": 1,
   "metadata": {},
   "outputs": [],
   "source": [
    "#Will save the data set to a CSV\n",
    "\n",
    "import pandas as pd\n",
    "import Combinations as c\n",
    "\n",
    "my_dict = c.combinations(N=1000, n=100)[0]\n",
    "\n",
    "df = pd.DataFrame.from_dict(my_dict, orient = \"index\")\n",
    "df.to_csv(\"win_rate.csv\")"
   ]
  },
  {
   "cell_type": "code",
   "execution_count": 18,
   "metadata": {},
   "outputs": [
    {
     "name": "stdout",
     "output_type": "stream",
     "text": [
      "{'(0, 0)': 0.47452, '(1, 1)': 0.49491999999999997, '(1, 2)': 0.47946000000000005, '(1, 3)': 0.47641999999999995, '(1, 4)': 0.47333000000000003, '(1, 5)': 0.47927, '(1, 6)': 0.46958999999999995, '(1, 0)': 0.47583000000000003, '(2, 2)': 0.49137, '(2, 3)': 0.47711000000000003, '(2, 4)': 0.47686000000000006, '(2, 5)': 0.46552, '(2, 6)': 0.47685, '(2, 0)': 0.47551000000000004, '(3, 3)': 0.48812, '(3, 4)': 0.46248999999999996, '(3, 5)': 0.47234, '(3, 6)': 0.47381, '(3, 0)': 0.47425, '(4, 4)': 0.48631, '(4, 5)': 0.47445, '(4, 6)': 0.48151000000000005, '(4, 0)': 0.47645, '(5, 5)': 0.49237, '(5, 6)': 0.47698999999999997, '(5, 0)': 0.47384, '(6, 6)': 0.49593999999999994, '(6, 0)': 0.47596000000000005}\n"
     ]
    }
   ],
   "source": [
    "#Will read the csv file\n",
    "import matplotlib.pyplot as plt\n",
    "import pandas as pd\n",
    "import numpy as np\n",
    "\n",
    "df = pd.read_csv(\"win_rate.csv\", index_col=0)\n",
    "\n",
    "d = df.to_dict(\"dict\")\n",
    "d = d['0']\n",
    "\n",
    "print(d)"
   ]
  },
  {
   "cell_type": "code",
   "execution_count": 21,
   "metadata": {},
   "outputs": [
    {
     "data": {
      "text/plain": [
       "(0.45, 0.5)"
      ]
     },
     "execution_count": 21,
     "metadata": {},
     "output_type": "execute_result"
    },
    {
     "data": {
      "image/png": "[encoded data removed]",
      "text/plain": [
       "<Figure size 432x288 with 1 Axes>"
      ]
     },
     "metadata": {},
     "output_type": "display_data"
    }
   ],
   "source": [
    "plt.bar(range(len(d)), list(d.values()), align='center')\n",
    "plt.xticks(range(len(d)), list(d.keys()), rotation = 'vertical')\n",
    "plt.ylim([0.45 , 0.5])"
   ]
  },
  {
   "cell_type": "code",
   "execution_count": null,
   "metadata": {},
   "outputs": [],
   "source": []
  }
 ],
 "metadata": {
  "kernelspec": {
   "display_name": "Python 3",
   "language": "python",
   "name": "python3"
  }
 },
 "nbformat": 4,
 "nbformat_minor": 2
}
