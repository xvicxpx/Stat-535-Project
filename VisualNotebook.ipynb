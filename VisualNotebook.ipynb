{
 "cells": [
  {
   "cell_type": "code",
   "execution_count": 13,
   "metadata": {},
   "outputs": [],
   "source": [
    "#Will save the data set to a CSV only need to be run if there is no data set\n",
    "\n",
    "import pandas as pd\n",
    "import Combinations as c\n",
    "\n",
    "hold = c.combinations(N=1000, n=100)\n",
    "win_rate = hold[0]\n",
    "win_data = hold[1]\n",
    "\n",
    "df = pd.DataFrame.from_dict(win_rate, orient = \"index\")\n",
    "df.to_csv(\"win_rate.csv\")\n",
    "\n",
    "df2 = pd.DataFrame.from_dict(win_data,orient = \"index\")\n",
    "df2.to_csv(\"win_data.csv\")"
   ]
  },
  {
   "cell_type": "code",
   "execution_count": 18,
   "metadata": {},
   "outputs": [
    {
     "name": "stdout",
     "output_type": "stream",
     "text": [
      "{'(0, 0)': 0.47212, '(1, 1)': 0.49558, '(1, 2)': 0.47847, '(1, 3)': 0.47706000000000004, '(1, 4)': 0.47858999999999996, '(1, 5)': 0.4761, '(1, 6)': 0.46898, '(1, 0)': 0.47743, '(2, 2)': 0.49158, '(2, 3)': 0.4776, '(2, 4)': 0.47558999999999996, '(2, 5)': 0.46913, '(2, 6)': 0.47961000000000004, '(2, 0)': 0.47761000000000003, '(3, 3)': 0.48808999999999997, '(3, 4)': 0.46291000000000004, '(3, 5)': 0.4759, '(3, 6)': 0.47697, '(3, 0)': 0.47333000000000003, '(4, 4)': 0.48918, '(4, 5)': 0.47668, '(4, 6)': 0.47703999999999996, '(4, 0)': 0.47481999999999996, '(5, 5)': 0.49461000000000005, '(5, 6)': 0.48027, '(5, 0)': 0.47629, '(6, 6)': 0.49601999999999996, '(6, 0)': 0.47676999999999997}\n"
     ]
    }
   ],
   "source": [
    "#Will read the csv file for win_rate.csv\n",
    "\n",
    "import matplotlib.pyplot as plt\n",
    "import pandas as pd\n",
    "import numpy as np\n",
    "\n",
    "df = pd.read_csv(\"win_rate.csv\", index_col=0)\n",
    "\n",
    "win_rate = df.to_dict(\"dict\")\n",
    "win_rate= win_rate['0']\n",
    "\n",
    "print(win_rate)"
   ]
  },
  {
   "cell_type": "code",
   "execution_count": 19,
   "metadata": {},
   "outputs": [
    {
     "data": {
      "text/plain": [
       "(0.45, 0.5)"
      ]
     },
     "execution_count": 19,
     "metadata": {},
     "output_type": "execute_result"
    },
    {
     "data": {
      "image/png": "[encoded data removed]",
      "text/plain": [
       "<Figure size 432x288 with 1 Axes>"
      ]
     },
     "metadata": {
      "needs_background": "light"
     },
     "output_type": "display_data"
    }
   ],
   "source": [
    "plt.bar(range(len(win_rate)), list(win_rate.values()), align='center')\n",
    "plt.xticks(range(len(win_rate)), list(win_rate.keys()), rotation = 'vertical')\n",
    "plt.ylim([0.45 , 0.5])"
   ]
  },
  {
   "cell_type": "code",
   "execution_count": 4,
   "metadata": {},
   "outputs": [],
   "source": [
    "#Will read the csv file for win_data\n",
    "\n",
    "import pandas as pd\n",
    "\n",
    "df2 = pd.read_csv(\"win_data.csv\", index_col=0)\n",
    "\n",
    "d2 = df2.to_dict(\"split\")\n",
    "win_data = dict(zip(d2[\"index\"], d2[\"data\"]))"
   ]
  },
  {
   "cell_type": "code",
   "execution_count": 5,
   "metadata": {},
   "outputs": [
    {
     "data": {
      "text/plain": [
       "{'(0, 0)': [0, 0, 1, 0, 3, 3, 2, 1, 0, 0, 0],\n",
       " '(1, 1)': [0, 0, 1, 2, 4, 1, 1, 1, 0, 0, 0],\n",
       " '(1, 2)': [0, 0, 1, 1, 1, 6, 0, 1, 0, 0, 0],\n",
       " '(1, 3)': [0, 0, 0, 3, 2, 0, 3, 1, 1, 0, 0],\n",
       " '(1, 4)': [0, 0, 1, 3, 1, 3, 2, 0, 0, 0, 0],\n",
       " '(1, 5)': [0, 0, 0, 0, 4, 3, 3, 0, 0, 0, 0],\n",
       " '(1, 6)': [0, 0, 0, 3, 1, 2, 2, 1, 1, 0, 0],\n",
       " '(1, 0)': [0, 0, 0, 1, 3, 2, 3, 1, 0, 0, 0],\n",
       " '(2, 2)': [0, 0, 1, 0, 2, 6, 1, 0, 0, 0, 0],\n",
       " '(2, 3)': [0, 0, 2, 1, 3, 1, 3, 0, 0, 0, 0],\n",
       " '(2, 4)': [0, 0, 0, 2, 3, 2, 1, 0, 2, 0, 0],\n",
       " '(2, 5)': [0, 0, 0, 2, 1, 4, 2, 1, 0, 0, 0],\n",
       " '(2, 6)': [0, 0, 0, 2, 3, 2, 1, 1, 0, 1, 0],\n",
       " '(2, 0)': [0, 0, 0, 4, 5, 0, 0, 1, 0, 0, 0],\n",
       " '(3, 3)': [0, 0, 0, 1, 3, 1, 3, 2, 0, 0, 0],\n",
       " '(3, 4)': [0, 0, 0, 1, 0, 3, 4, 2, 0, 0, 0],\n",
       " '(3, 5)': [0, 0, 0, 3, 2, 0, 3, 2, 0, 0, 0],\n",
       " '(3, 6)': [0, 0, 1, 0, 0, 3, 3, 3, 0, 0, 0],\n",
       " '(3, 0)': [0, 0, 1, 0, 3, 3, 1, 1, 1, 0, 0],\n",
       " '(4, 4)': [0, 0, 0, 2, 2, 3, 3, 0, 0, 0, 0],\n",
       " '(4, 5)': [0, 0, 0, 1, 1, 3, 3, 0, 2, 0, 0],\n",
       " '(4, 6)': [0, 0, 1, 2, 3, 2, 1, 0, 1, 0, 0],\n",
       " '(4, 0)': [0, 0, 0, 1, 3, 3, 2, 0, 1, 0, 0],\n",
       " '(5, 5)': [0, 0, 1, 0, 5, 1, 2, 1, 0, 0, 0],\n",
       " '(5, 6)': [0, 2, 0, 0, 0, 0, 2, 2, 3, 1, 0],\n",
       " '(5, 0)': [0, 0, 0, 0, 4, 3, 1, 0, 2, 0, 0],\n",
       " '(6, 6)': [0, 0, 1, 2, 4, 2, 1, 0, 0, 0, 0],\n",
       " '(6, 0)': [0, 1, 1, 2, 0, 3, 3, 0, 0, 0, 0]}"
      ]
     },
     "execution_count": 5,
     "metadata": {},
     "output_type": "execute_result"
    }
   ],
   "source": [
    "win_data"
   ]
  },
  {
   "cell_type": "code",
   "execution_count": null,
   "metadata": {},
   "outputs": [],
   "source": []
  }
 ],
 "metadata": {
  "kernelspec": {
   "display_name": "Python 3",
   "language": "python",
   "name": "python3"
  },
  "language_info": {
   "codemirror_mode": {
    "name": "ipython",
    "version": 3
   },
   "file_extension": ".py",
   "mimetype": "text/x-python",
   "name": "python",
   "nbconvert_exporter": "python",
   "pygments_lexer": "ipython3",
   "version": "3.7.3"
  }
 },
 "nbformat": 4,
 "nbformat_minor": 2
}
