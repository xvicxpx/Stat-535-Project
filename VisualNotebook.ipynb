{
 "cells": [
  {
   "cell_type": "code",
   "execution_count": 13,
   "metadata": {},
   "outputs": [],
   "source": [
    "#Will save the data set to a CSV only need to be run if there is no data set\n",
    "\n",
    "import pandas as pd\n",
    "import Combinations as c\n",
    "\n",
    "hold = c.combinations(N=1000, n=100)\n",
    "win_rate = hold[0]\n",
    "win_data = hold[1]\n",
    "\n",
    "df = pd.DataFrame.from_dict(win_rate, orient = \"index\")\n",
    "df.to_csv(\"win_rate.csv\")\n",
    "\n",
    "df2 = pd.DataFrame.from_dict(win_data,orient = \"index\")\n",
    "df2.to_csv(\"win_data.csv\")"
   ]
  },
  {
   "cell_type": "code",
   "execution_count": 18,
   "metadata": {},
   "outputs": [
    {
     "name": "stdout",
     "output_type": "stream",
     "text": [
<<<<<<< HEAD
      "{'(0, 0)': 0.47212, '(1, 1)': 0.49558, '(1, 2)': 0.47847, '(1, 3)': 0.47706000000000004, '(1, 4)': 0.47858999999999996, '(1, 5)': 0.4761, '(1, 6)': 0.46898, '(1, 0)': 0.47743, '(2, 2)': 0.49158, '(2, 3)': 0.4776, '(2, 4)': 0.47558999999999996, '(2, 5)': 0.46913, '(2, 6)': 0.47961000000000004, '(2, 0)': 0.47761000000000003, '(3, 3)': 0.48808999999999997, '(3, 4)': 0.46291000000000004, '(3, 5)': 0.4759, '(3, 6)': 0.47697, '(3, 0)': 0.47333000000000003, '(4, 4)': 0.48918, '(4, 5)': 0.47668, '(4, 6)': 0.47703999999999996, '(4, 0)': 0.47481999999999996, '(5, 5)': 0.49461000000000005, '(5, 6)': 0.48027, '(5, 0)': 0.47629, '(6, 6)': 0.49601999999999996, '(6, 0)': 0.47676999999999997}\n"
=======

     ]
    }
   ],
   "source": [
<<<<<<< HEAD
    "#Will read the csv file for win_rate.csv\n",
    "\n",
=======

    "import matplotlib.pyplot as plt\n",
    "import pandas as pd\n",
    "import numpy as np\n",
    "\n",
    "df = pd.read_csv(\"win_rate.csv\", index_col=0)\n",
    "\n",
<<<<<<< HEAD
    "win_rate = df.to_dict(\"dict\")\n",
    "win_rate= win_rate['0']\n",
    "\n",
    "print(win_rate)"
=======

   ]
  },
  {
   "cell_type": "code",
<<<<<<< HEAD
   "execution_count": 19,
   "metadata": {},
   "outputs": [
    {
     "data": {
      "text/plain": [
       "(0.45, 0.5)"
      ]
     },
     "execution_count": 19,
     "metadata": {},
     "output_type": "execute_result"
    },
    {
     "data": {
      "image/png": "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\n",
      "text/plain": [
       "<Figure size 432x288 with 1 Axes>"
      ]
     },
     "metadata": {
      "needs_background": "light"
     },
     "output_type": "display_data"
    }
   ],
   "source": [
    "plt.bar(range(len(win_rate)), list(win_rate.values()), align='center')\n",
    "plt.xticks(range(len(win_rate)), list(win_rate.keys()), rotation = 'vertical')\n",
    "plt.ylim([0.45 , 0.5])"
   ]
  },
  {
   "cell_type": "code",
   "execution_count": 4,
=======
   "execution_count": 21,

   "metadata": {},
   "outputs": [
    {
     "data": {
      "text/plain": [
       "(0.45, 0.5)"
      ]
     },
     "execution_count": 21,
     "metadata": {},
     "output_type": "execute_result"
    },
    {
     "data": {
      "image/png": "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\n",
      "text/plain": [
       "<Figure size 432x288 with 1 Axes>"
      ]
     },
     "metadata": {},
     "output_type": "display_data"
    }
   ],
   "source": [
<<<<<<< HEAD
    "#Will read the csv file for win_data\n",
    "\n",
    "import pandas as pd\n",
    "\n",
    "df2 = pd.read_csv(\"win_data.csv\", index_col=0)\n",
    "\n",
    "d2 = df2.to_dict(\"split\")\n",
    "win_data = dict(zip(d2[\"index\"], d2[\"data\"]))"
   ]
  },
  {
   "cell_type": "code",
   "execution_count": 5,
   "metadata": {},
   "outputs": [
    {
     "data": {
      "text/plain": [
       "{'(0, 0)': [0, 0, 1, 0, 3, 3, 2, 1, 0, 0, 0],\n",
       " '(1, 1)': [0, 0, 1, 2, 4, 1, 1, 1, 0, 0, 0],\n",
       " '(1, 2)': [0, 0, 1, 1, 1, 6, 0, 1, 0, 0, 0],\n",
       " '(1, 3)': [0, 0, 0, 3, 2, 0, 3, 1, 1, 0, 0],\n",
       " '(1, 4)': [0, 0, 1, 3, 1, 3, 2, 0, 0, 0, 0],\n",
       " '(1, 5)': [0, 0, 0, 0, 4, 3, 3, 0, 0, 0, 0],\n",
       " '(1, 6)': [0, 0, 0, 3, 1, 2, 2, 1, 1, 0, 0],\n",
       " '(1, 0)': [0, 0, 0, 1, 3, 2, 3, 1, 0, 0, 0],\n",
       " '(2, 2)': [0, 0, 1, 0, 2, 6, 1, 0, 0, 0, 0],\n",
       " '(2, 3)': [0, 0, 2, 1, 3, 1, 3, 0, 0, 0, 0],\n",
       " '(2, 4)': [0, 0, 0, 2, 3, 2, 1, 0, 2, 0, 0],\n",
       " '(2, 5)': [0, 0, 0, 2, 1, 4, 2, 1, 0, 0, 0],\n",
       " '(2, 6)': [0, 0, 0, 2, 3, 2, 1, 1, 0, 1, 0],\n",
       " '(2, 0)': [0, 0, 0, 4, 5, 0, 0, 1, 0, 0, 0],\n",
       " '(3, 3)': [0, 0, 0, 1, 3, 1, 3, 2, 0, 0, 0],\n",
       " '(3, 4)': [0, 0, 0, 1, 0, 3, 4, 2, 0, 0, 0],\n",
       " '(3, 5)': [0, 0, 0, 3, 2, 0, 3, 2, 0, 0, 0],\n",
       " '(3, 6)': [0, 0, 1, 0, 0, 3, 3, 3, 0, 0, 0],\n",
       " '(3, 0)': [0, 0, 1, 0, 3, 3, 1, 1, 1, 0, 0],\n",
       " '(4, 4)': [0, 0, 0, 2, 2, 3, 3, 0, 0, 0, 0],\n",
       " '(4, 5)': [0, 0, 0, 1, 1, 3, 3, 0, 2, 0, 0],\n",
       " '(4, 6)': [0, 0, 1, 2, 3, 2, 1, 0, 1, 0, 0],\n",
       " '(4, 0)': [0, 0, 0, 1, 3, 3, 2, 0, 1, 0, 0],\n",
       " '(5, 5)': [0, 0, 1, 0, 5, 1, 2, 1, 0, 0, 0],\n",
       " '(5, 6)': [0, 2, 0, 0, 0, 0, 2, 2, 3, 1, 0],\n",
       " '(5, 0)': [0, 0, 0, 0, 4, 3, 1, 0, 2, 0, 0],\n",
       " '(6, 6)': [0, 0, 1, 2, 4, 2, 1, 0, 0, 0, 0],\n",
       " '(6, 0)': [0, 1, 1, 2, 0, 3, 3, 0, 0, 0, 0]}"
      ]
     },
     "execution_count": 5,
     "metadata": {},
     "output_type": "execute_result"
    }
   ],
   "source": [
    "win_data"
=======

   ]
  },
  {
   "cell_type": "code",
   "execution_count": null,
   "metadata": {},
   "outputs": [],
   "source": []
  }
 ],
 "metadata": {
  "kernelspec": {
   "display_name": "Python 3",
   "language": "python",
   "name": "python3"
  }
 },
 "nbformat": 4,
 "nbformat_minor": 2
}
