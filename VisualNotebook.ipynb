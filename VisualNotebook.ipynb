{
 "cells": [
  {
   "cell_type": "code",
   "execution_count": 1,
   "metadata": {},
   "outputs": [],
   "source": [
    "#Will save the data set to a CSV\n",
    "\n",
    "import pandas as pd\n",
    "import Combinations as c\n",
    "\n",
    "my_dict = c.combinations(N=1000, n=100)[0]\n",
    "\n",
    "df = pd.DataFrame.from_dict(my_dict, orient = \"index\")\n",
    "df.to_csv(\"win_rate.csv\")"
   ]
  },
  {
   "cell_type": "code",
   "execution_count": 1,
   "metadata": {},
   "outputs": [],
   "source": [
    "#Will read the csv file\n",
    "\n",
    "import pandas as pd\n",
    "\n",
    "df = pd.read_csv(\"win_rate.csv\", index_col=0)\n",
    "\n",
    "d = df.to_dict(\"split\")\n",
    "d = dict(zip(d[\"index\"], d[\"data\"]))"
   ]
  },
  {
   "cell_type": "code",
   "execution_count": null,
   "metadata": {},
   "outputs": [],
   "source": [
    "plt.bar(range(len(testDict)), list(testDict.values()), align='center')\n",
    "plt.xticks(range(len(testDict)), list(testDict.keys()), rotation = 'vertical')\n",
    "plt.ylim([0.4 , 0.6])"
   ]
  }
 ],
 "metadata": {
  "kernelspec": {
   "display_name": "Python 3",
   "language": "python",
   "name": "python3"
  },
  "language_info": {
   "codemirror_mode": {
    "name": "ipython",
    "version": 3
   },
   "file_extension": ".py",
   "mimetype": "text/x-python",
   "name": "python",
   "nbconvert_exporter": "python",
   "pygments_lexer": "ipython3",
   "version": "3.7.3"
  }
 },
 "nbformat": 4,
 "nbformat_minor": 2
}
