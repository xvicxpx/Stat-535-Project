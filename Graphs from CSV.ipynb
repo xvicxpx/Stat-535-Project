{
 "cells": [
  {
   "cell_type": "code",
   "execution_count": null,
   "metadata": {},
   "outputs": [],
   "source": [
    "import matplotlib.pyplot as plt\n",
    "import pandas as pd "
   ]
  },
  {
   "cell_type": "code",
   "execution_count": null,
   "metadata": {},
   "outputs": [],
   "source": [
    "df = pd.read_csv(\"win_rate.csv\", index_col=0)\n",
    "df2 = pd.read_csv(\"win_data.csv\", index_col=0)"
   ]
  },
  {
   "cell_type": "code",
   "execution_count": null,
   "metadata": {},
   "outputs": [],
   "source": [
    "d = df.to_dict(\"dict\")\n",
    "d = d['0']"
   ]
  },
  {
   "cell_type": "code",
   "execution_count": null,
   "metadata": {},
   "outputs": [],
   "source": [
    "plt.bar(range(len(d)), list(d.values()), align='center')\n",
    "plt.xticks(range(len(d)), list(d.keys()), rotation = 'vertical')\n",
    "plt.ylim([0.45 , 0.5])"
   ]
  },
  {
   "cell_type": "code",
   "execution_count": null,
   "metadata": {},
   "outputs": [],
   "source": [
    "d2 = df2.to_dict(\"index\")\n",
    "d66 = d2['(6, 6)']\n",
    "d00 = d2['(0, 0)']\n",
    "d34 = d2['(3, 4)']"
   ]
  },
  {
   "cell_type": "code",
   "execution_count": null,
   "metadata": {},
   "outputs": [],
   "source": [
    "plt.bar(range(len(d00)), list(d00.values()), align='center')\n",
    "plt.xticks(range(len(d00)), list(d00.keys()), rotation = 'vertical')\n",
    "plt.xlim([27 , 66])\n",
    "plt.ylim([0, 100])\n",
    "fig_size = plt.rcParams[\"figure.figsize\"]"
   ]
  },
  {
   "cell_type": "code",
   "execution_count": null,
   "metadata": {},
   "outputs": [],
   "source": [
    "plt.bar(range(len(d66)), list(d66.values()), align='center')\n",
    "plt.xticks(range(len(d66)), list(d66.keys()), rotation = 'vertical')\n",
    "plt.xlim([35 , 64])\n",
    "plt.ylim([0, 100])\n",
    "fig_size = plt.rcParams[\"figure.figsize\"]"
   ]
  },
  {
   "cell_type": "code",
   "execution_count": null,
   "metadata": {},
   "outputs": [],
   "source": [
    "plt.bar(range(len(d34)), list(d34.values()), align='center')\n",
    "plt.xticks(range(len(d34)), list(d34.keys()), rotation = 'vertical')\n",
    "plt.xlim([30 , 65])\n",
    "plt.ylim([0, 100])\n",
    "fig_size = plt.rcParams[\"figure.figsize\"]"
   ]
  }
 ],
 "metadata": {
  "kernelspec": {
   "display_name": "Python 3",
   "language": "python",
   "name": "python3"
  },
  "language_info": {
   "codemirror_mode": {
    "name": "ipython",
    "version": 3
   },
   "file_extension": ".py",
   "mimetype": "text/x-python",
   "name": "python",
   "nbconvert_exporter": "python",
   "pygments_lexer": "ipython3",
   "version": "3.6.5"
  }
 },
 "nbformat": 4,
 "nbformat_minor": 2
}
